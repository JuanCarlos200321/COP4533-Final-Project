{
 "cells": [
  {
   "cell_type": "markdown",
   "metadata": {},
   "source": [
    "# Key Components\n",
    "## Algorithm Selection\n",
    "You will select an algorithm to work on.\n",
    "- Divide and Conquer: Binary Search, QuickSort, MergeSort."
   ]
  },
  {
   "cell_type": "markdown",
   "metadata": {},
   "source": [
    "## Implementation\n",
    "- Develop a functional implementation of your chosen algorithm in a programming language of your choice (e.g., Python, C++, Java).\n",
    "- Write modular, readable, and well-documented code.\n",
    "- Ensure the implementation is capable of processing inputs of varying sizes to enable\n",
    "performance evaluation."
   ]
  },
  {
   "cell_type": "code",
   "execution_count": null,
   "metadata": {},
   "outputs": [],
   "source": [
    "def binary_search(A, n, T):\n",
    "  n = len(A)\n",
    "  L = 0\n",
    "  R = n-1\n",
    "  while L <= R:\n",
    "    m = math.floor((L+R)/2)\n",
    "    if A[m] < T:\n",
    "      L = m+1\n",
    "    elif A[m] > T:\n",
    "      R = m-1\n",
    "    else:\n",
    "      return m\n",
    "  print(\"Sort Unsuccessful\")\n"
   ]
  },
  {
   "cell_type": "markdown",
   "metadata": {},
   "source": [
    "## Experimental Analysis\n",
    "- Measure the running time of the algorithm on different input sizes and compare it\n",
    "to its theoretical time complexity.\n",
    "- Measure the peak memory usage of the algorithm and analyze how memory requirements scale with input size.\n",
    "- Prepare visualizations, such as graphs or tables, to illustrate your experimental results."
   ]
  },
  {
   "cell_type": "markdown",
   "metadata": {},
   "source": [
    "## Presentation\n",
    "You will deliver a 15-minute presentation covering the following:\n",
    "- Algorithm Overview: Explain the algorithm, its purpose, and real-world applications.\n",
    "- Implementation Details: Share the challenges faced during coding and how you\n",
    "addressed them.\n",
    "- Performance Analysis: Present your findings on running time and memory usage,\n",
    "supplemented with visual evidence.\n",
    "- Strengths, Limitations, and Improvements: Discuss the algorithm’s efficiency,\n",
    "potential bottlenecks, and any improvements made during implementation."
   ]
  },
  {
   "cell_type": "markdown",
   "metadata": {},
   "source": [
    "## Deliverables\n",
    "- Source Code: A well-documented implementation of the algorithm, including a\n",
    "README file describing how to run the code and reproduce results.\n",
    "2\n",
    "- Report: A 2–3 page report summarizing the algorithm, its implementation, experi-\n",
    "mental analysis, and key takeaways.\n",
    "- Presentation Slides: A professional slide deck to accompany your presentation.\n",
    "This project is an opportunity for you to apply theoretical knowledge, practice your\n",
    "coding skills, and analyze the performance of algorithms in real-world scenarios. It’s your\n",
    "chance to dive into the fascinating world of algorithms and showcase your creativity and\n",
    "problem-solving skills. We look forward to seeing your innovations!"
   ]
  }
 ],
 "metadata": {
  "kernelspec": {
   "display_name": "Python 3",
   "language": "python",
   "name": "python3"
  },
  "language_info": {
   "name": "python",
   "version": "3.12.1"
  }
 },
 "nbformat": 4,
 "nbformat_minor": 2
}
